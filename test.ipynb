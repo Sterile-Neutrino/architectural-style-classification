{
 "cells": [
  {
   "cell_type": "code",
   "execution_count": 1,
   "metadata": {},
   "outputs": [
    {
     "name": "stderr",
     "output_type": "stream",
     "text": [
      "Using TensorFlow backend.\n"
     ]
    }
   ],
   "source": [
    "from __future__ import print_function\n",
    "import numpy as np\n",
    "import keras\n",
    "from keras.models import load_model\n",
    "from keras.models import *\n",
    "from sklearn.model_selection import train_test_split\n",
    "import matplotlib.pyplot as plt\n",
    "import cv2\n",
    "import os\n",
    "\n",
    "IMG_SIZE = 256\n",
    "training_data_path = r'/floyd/input/architectural_style_classification'\n",
    "num_classes = 6"
   ]
  },
  {
   "cell_type": "code",
   "execution_count": 3,
   "metadata": {},
   "outputs": [
    {
     "name": "stdout",
     "output_type": "stream",
     "text": [
      "reading images: 1 / 50\n",
      "reading images: 6 / 50\n",
      "reading images: 11 / 50\n",
      "reading images: 16 / 50\n",
      "reading images: 21 / 50\n",
      "reading images: 26 / 50\n",
      "reading images: 31 / 50\n",
      "reading images: 36 / 50\n",
      "reading images: 41 / 50\n",
      "reading images: 46 / 50\n",
      "reading images: 1 / 50\n",
      "reading images: 6 / 50\n",
      "reading images: 11 / 50\n",
      "reading images: 16 / 50\n",
      "reading images: 21 / 50\n",
      "reading images: 26 / 50\n",
      "reading images: 31 / 50\n",
      "reading images: 36 / 50\n",
      "reading images: 41 / 50\n",
      "reading images: 46 / 50\n",
      "reading images: 1 / 50\n",
      "reading images: 6 / 50\n",
      "reading images: 11 / 50\n",
      "reading images: 16 / 50\n",
      "reading images: 21 / 50\n",
      "reading images: 26 / 50\n",
      "reading images: 31 / 50\n",
      "reading images: 36 / 50\n",
      "reading images: 41 / 50\n",
      "reading images: 46 / 50\n",
      "reading images: 1 / 50\n",
      "reading images: 6 / 50\n",
      "reading images: 11 / 50\n",
      "reading images: 16 / 50\n",
      "reading images: 21 / 50\n",
      "reading images: 26 / 50\n",
      "reading images: 31 / 50\n",
      "reading images: 36 / 50\n",
      "reading images: 41 / 50\n",
      "reading images: 46 / 50\n",
      "reading images: 1 / 50\n",
      "reading images: 6 / 50\n",
      "reading images: 11 / 50\n",
      "reading images: 16 / 50\n",
      "reading images: 21 / 50\n",
      "reading images: 26 / 50\n",
      "reading images: 31 / 50\n",
      "reading images: 36 / 50\n",
      "reading images: 41 / 50\n",
      "reading images: 46 / 50\n",
      "reading images: 1 / 50\n",
      "reading images: 6 / 50\n",
      "reading images: 11 / 50\n",
      "reading images: 16 / 50\n",
      "reading images: 21 / 50\n",
      "reading images: 26 / 50\n",
      "reading images: 31 / 50\n",
      "reading images: 36 / 50\n",
      "reading images: 41 / 50\n",
      "reading images: 46 / 50\n"
     ]
    }
   ],
   "source": [
    "pkg_names = os.listdir(training_data_path)\n",
    "m_tr_pkgs = len(pkg_names)\n",
    "target = []\n",
    "img_buff = np.zeros((300, IMG_SIZE, IMG_SIZE, 3))\n",
    "for m in range(m_tr_pkgs):\n",
    "    img_names = os.listdir(training_data_path + '/' + pkg_names[m])\n",
    "    m_tr_imgs = len(os.listdir(training_data_path + '/' + pkg_names[m]))\n",
    "    for i in range(m_tr_imgs):\n",
    "        img_file_path = os.path.join(training_data_path + '/' + pkg_names[m] + '/' + img_names[i])\n",
    "        img = cv2.imread(img_file_path)\n",
    "        img = cv2.resize(img,(IMG_SIZE, IMG_SIZE))\n",
    "        img_buff[50*m+i, :, :, :] = img/255.\n",
    "        this_label = pkg_names[m]\n",
    "        target.append(this_label)\n",
    "\n",
    "        if np.mod(i, 5) == 1:\n",
    "            print('reading images: ' + str(i) + ' / ' + str(m_tr_imgs))"
   ]
  },
  {
   "cell_type": "code",
   "execution_count": 4,
   "metadata": {},
   "outputs": [],
   "source": [
    "classes = ['Chuan', 'Hui', 'Jin', 'Jing', 'Min', 'Su']\n",
    "for i in range(len(target)):\n",
    "    target[i] = classes.index(target[i])"
   ]
  },
  {
   "cell_type": "code",
   "execution_count": 5,
   "metadata": {},
   "outputs": [],
   "source": [
    "# the data, split between train and test sets\n",
    "x_train, x_test, y_train, y_test = train_test_split(img_buff, target, test_size=0.2)\n",
    "\n",
    "# convert class vectors to binary class matrices\n",
    "y_train = keras.utils.to_categorical(y_train, num_classes)\n",
    "y_test = keras.utils.to_categorical(y_test, num_classes)"
   ]
  },
  {
   "cell_type": "code",
   "execution_count": 8,
   "metadata": {},
   "outputs": [],
   "source": [
    "model = load_model(\"models/Architecture_keras_cnn_04.h5\")"
   ]
  },
  {
   "cell_type": "code",
   "execution_count": 23,
   "metadata": {},
   "outputs": [],
   "source": [
    "x = np.zeros((1, 256, 256, 3))"
   ]
  },
  {
   "cell_type": "code",
   "execution_count": 29,
   "metadata": {},
   "outputs": [],
   "source": [
    "x[0] =  x_train[0]"
   ]
  },
  {
   "cell_type": "code",
   "execution_count": 30,
   "metadata": {},
   "outputs": [
    {
     "data": {
      "text/plain": [
       "(1, 256, 256, 3)"
      ]
     },
     "execution_count": 30,
     "metadata": {},
     "output_type": "execute_result"
    }
   ],
   "source": [
    "x.shape"
   ]
  },
  {
   "cell_type": "code",
   "execution_count": 36,
   "metadata": {},
   "outputs": [],
   "source": [
    "from keras.applications.imagenet_utils import preprocess_input, decode_predictions"
   ]
  },
  {
   "cell_type": "code",
   "execution_count": 50,
   "metadata": {},
   "outputs": [
    {
     "data": {
      "text/plain": [
       "array([0., 0., 0., 0., 0., 1.], dtype=float32)"
      ]
     },
     "execution_count": 50,
     "metadata": {},
     "output_type": "execute_result"
    }
   ],
   "source": [
    "y_train[0]"
   ]
  },
  {
   "cell_type": "code",
   "execution_count": 42,
   "metadata": {},
   "outputs": [],
   "source": [
    "preds = model.predict(x)"
   ]
  },
  {
   "cell_type": "code",
   "execution_count": 49,
   "metadata": {},
   "outputs": [
    {
     "data": {
      "text/plain": [
       "0.96139777"
      ]
     },
     "execution_count": 49,
     "metadata": {},
     "output_type": "execute_result"
    }
   ],
   "source": [
    "preds[0][5]"
   ]
  },
  {
   "cell_type": "code",
   "execution_count": 44,
   "metadata": {},
   "outputs": [
    {
     "ename": "ValueError",
     "evalue": "`decode_predictions` expects a batch of predictions (i.e. a 2D array of shape (samples, 1000)). Found array with shape: (1, 6)",
     "output_type": "error",
     "traceback": [
      "\u001b[0;31m---------------------------------------------------------------------------\u001b[0m",
      "\u001b[0;31mValueError\u001b[0m                                Traceback (most recent call last)",
      "\u001b[0;32m<ipython-input-44-126cbcaa2d9f>\u001b[0m in \u001b[0;36m<module>\u001b[0;34m\u001b[0m\n\u001b[0;32m----> 1\u001b[0;31m \u001b[0mdecode_predictions\u001b[0m\u001b[0;34m(\u001b[0m\u001b[0mpreds\u001b[0m\u001b[0;34m)\u001b[0m\u001b[0;34m\u001b[0m\u001b[0m\n\u001b[0m",
      "\u001b[0;32m/usr/local/lib/python3.6/site-packages/keras/applications/imagenet_utils.py\u001b[0m in \u001b[0;36mdecode_predictions\u001b[0;34m(preds, top)\u001b[0m\n\u001b[1;32m    209\u001b[0m                          \u001b[0;34m'a batch of predictions '\u001b[0m\u001b[0;34m\u001b[0m\u001b[0m\n\u001b[1;32m    210\u001b[0m                          \u001b[0;34m'(i.e. a 2D array of shape (samples, 1000)). '\u001b[0m\u001b[0;34m\u001b[0m\u001b[0m\n\u001b[0;32m--> 211\u001b[0;31m                          'Found array with shape: ' + str(preds.shape))\n\u001b[0m\u001b[1;32m    212\u001b[0m     \u001b[0;32mif\u001b[0m \u001b[0mCLASS_INDEX\u001b[0m \u001b[0;32mis\u001b[0m \u001b[0;32mNone\u001b[0m\u001b[0;34m:\u001b[0m\u001b[0;34m\u001b[0m\u001b[0m\n\u001b[1;32m    213\u001b[0m         fpath = get_file('imagenet_class_index.json',\n",
      "\u001b[0;31mValueError\u001b[0m: `decode_predictions` expects a batch of predictions (i.e. a 2D array of shape (samples, 1000)). Found array with shape: (1, 6)"
     ]
    }
   ],
   "source": [
    "decode_predictions(preds)"
   ]
  },
  {
   "cell_type": "code",
   "execution_count": null,
   "metadata": {},
   "outputs": [],
   "source": []
  }
 ],
 "metadata": {
  "kernelspec": {
   "display_name": "Python 3",
   "language": "python",
   "name": "python3"
  },
  "language_info": {
   "codemirror_mode": {
    "name": "ipython",
    "version": 3
   },
   "file_extension": ".py",
   "mimetype": "text/x-python",
   "name": "python",
   "nbconvert_exporter": "python",
   "pygments_lexer": "ipython3",
   "version": "3.6.5"
  }
 },
 "nbformat": 4,
 "nbformat_minor": 2
}
